{
  "nbformat": 4,
  "nbformat_minor": 0,
  "metadata": {
    "colab": {
      "provenance": [],
      "authorship_tag": "ABX9TyMT+Z2ffzklcvwroAnOK2gh",
      "include_colab_link": true
    },
    "kernelspec": {
      "name": "python3",
      "display_name": "Python 3"
    },
    "language_info": {
      "name": "python"
    }
  },
  "cells": [
    {
      "cell_type": "markdown",
      "metadata": {
        "id": "view-in-github",
        "colab_type": "text"
      },
      "source": [
        "<a href=\"https://colab.research.google.com/github/Juan88Almeida/DS_Python/blob/main/DS_Python.ipynb\" target=\"_parent\"><img src=\"https://colab.research.google.com/assets/colab-badge.svg\" alt=\"Open In Colab\"/></a>"
      ]
    },
    {
      "cell_type": "markdown",
      "source": [
        "# Projeto - New York Airbnb"
      ],
      "metadata": {
        "id": "exnxn2I5dRoi"
      }
    },
    {
      "cell_type": "markdown",
      "source": [
        "Após a primeira semana de recepção, você se junta ao time de Cientistas de\n",
        "Dados da empresa com foco em expansão da empresa, na cidade de Nova\n",
        "York, Estados Unidos.\n",
        "Esse projeto de expansão é muito importante para o Airbnb, mas também é\n",
        "muito arriscado. Qualquer decisão errada por parte do CEO pode levar a\n",
        "empresa a ter um prejuízo enorme.\n",
        "Para diminuir o risco desse projeto, o seu chefe pediu para você auxiliar o\n",
        "CEO da empresa, utilizando dados para responder algumas perguntas, que o\n",
        "ajudarão a tomar melhores decisões comerciais e de marketing.\n",
        "As primeiras perguntas que você recebeu são as seguintes:\n",
        "\n",
        "1. Qual o valor médio do aluguel na cidade de Nova York?\n",
        "2. Quais os nomes das regiões que existem na cidade de Nova York?\n",
        "3. Qual o valor do aluguel diário mais caro da cidade de Nova York?"
      ],
      "metadata": {
        "id": "yxOUlkfPdehe"
      }
    },
    {
      "cell_type": "markdown",
      "source": [
        "## Pré-problema"
      ],
      "metadata": {
        "id": "cvByyajzerwE"
      }
    },
    {
      "cell_type": "markdown",
      "source": [
        "### Baixando bibliotecas necessárias"
      ],
      "metadata": {
        "id": "dnvK6xCVeza6"
      }
    },
    {
      "cell_type": "code",
      "source": [
        "!pip install pandas\n",
        "!pip install numpy"
      ],
      "metadata": {
        "colab": {
          "base_uri": "https://localhost:8080/"
        },
        "id": "fmleQSVieTaW",
        "outputId": "b438448f-d9fc-44f3-aaab-e9fcd98c0a46"
      },
      "execution_count": 11,
      "outputs": [
        {
          "output_type": "stream",
          "name": "stdout",
          "text": [
            "Looking in indexes: https://pypi.org/simple, https://us-python.pkg.dev/colab-wheels/public/simple/\n",
            "Requirement already satisfied: pandas in /usr/local/lib/python3.10/dist-packages (1.5.3)\n",
            "Requirement already satisfied: python-dateutil>=2.8.1 in /usr/local/lib/python3.10/dist-packages (from pandas) (2.8.2)\n",
            "Requirement already satisfied: pytz>=2020.1 in /usr/local/lib/python3.10/dist-packages (from pandas) (2022.7.1)\n",
            "Requirement already satisfied: numpy>=1.21.0 in /usr/local/lib/python3.10/dist-packages (from pandas) (1.22.4)\n",
            "Requirement already satisfied: six>=1.5 in /usr/local/lib/python3.10/dist-packages (from python-dateutil>=2.8.1->pandas) (1.16.0)\n",
            "Looking in indexes: https://pypi.org/simple, https://us-python.pkg.dev/colab-wheels/public/simple/\n",
            "Requirement already satisfied: numpy in /usr/local/lib/python3.10/dist-packages (1.22.4)\n"
          ]
        }
      ]
    },
    {
      "cell_type": "code",
      "source": [
        "import pandas as pd\n",
        "import numpy as np"
      ],
      "metadata": {
        "id": "8JjdBJhCecwT"
      },
      "execution_count": 12,
      "outputs": []
    },
    {
      "cell_type": "markdown",
      "source": [
        "### Importando base de dados"
      ],
      "metadata": {
        "id": "tPjbpTGTe3_6"
      }
    },
    {
      "cell_type": "code",
      "source": [
        "data_ny = pd.read_csv(\"/content/AB_NYC_2019.csv\")\n",
        "data_ny"
      ],
      "metadata": {
        "colab": {
          "base_uri": "https://localhost:8080/",
          "height": 904
        },
        "id": "-z0tXX8we6KZ",
        "outputId": "fa31e0c2-5c47-4214-d221-c15762ab5d64"
      },
      "execution_count": null,
      "outputs": [
        {
          "output_type": "execute_result",
          "data": {
            "text/plain": [
              "             id                                               name   host_id  \\\n",
              "0          2539                 Clean & quiet apt home by the park      2787   \n",
              "1          2595                              Skylit Midtown Castle      2845   \n",
              "2          3647                THE VILLAGE OF HARLEM....NEW YORK !      4632   \n",
              "3          3831                    Cozy Entire Floor of Brownstone      4869   \n",
              "4          5022   Entire Apt: Spacious Studio/Loft by central park      7192   \n",
              "...         ...                                                ...       ...   \n",
              "48890  36484665    Charming one bedroom - newly renovated rowhouse   8232441   \n",
              "48891  36485057      Affordable room in Bushwick/East Williamsburg   6570630   \n",
              "48892  36485431            Sunny Studio at Historical Neighborhood  23492952   \n",
              "48893  36485609               43rd St. Time Square-cozy single bed  30985759   \n",
              "48894  36487245  Trendy duplex in the very heart of Hell's Kitchen  68119814   \n",
              "\n",
              "           host_name neighbourhood_group       neighbourhood  latitude  \\\n",
              "0               John            Brooklyn          Kensington  40.64749   \n",
              "1           Jennifer           Manhattan             Midtown  40.75362   \n",
              "2          Elisabeth           Manhattan              Harlem  40.80902   \n",
              "3        LisaRoxanne            Brooklyn        Clinton Hill  40.68514   \n",
              "4              Laura           Manhattan         East Harlem  40.79851   \n",
              "...              ...                 ...                 ...       ...   \n",
              "48890        Sabrina            Brooklyn  Bedford-Stuyvesant  40.67853   \n",
              "48891        Marisol            Brooklyn            Bushwick  40.70184   \n",
              "48892  Ilgar & Aysel           Manhattan              Harlem  40.81475   \n",
              "48893            Taz           Manhattan      Hell's Kitchen  40.75751   \n",
              "48894     Christophe           Manhattan      Hell's Kitchen  40.76404   \n",
              "\n",
              "       longitude        room_type  price  minimum_nights  number_of_reviews  \\\n",
              "0      -73.97237     Private room    149               1                  9   \n",
              "1      -73.98377  Entire home/apt    225               1                 45   \n",
              "2      -73.94190     Private room    150               3                  0   \n",
              "3      -73.95976  Entire home/apt     89               1                270   \n",
              "4      -73.94399  Entire home/apt     80              10                  9   \n",
              "...          ...              ...    ...             ...                ...   \n",
              "48890  -73.94995     Private room     70               2                  0   \n",
              "48891  -73.93317     Private room     40               4                  0   \n",
              "48892  -73.94867  Entire home/apt    115              10                  0   \n",
              "48893  -73.99112      Shared room     55               1                  0   \n",
              "48894  -73.98933     Private room     90               7                  0   \n",
              "\n",
              "      last_review  reviews_per_month  calculated_host_listings_count  \\\n",
              "0      2018-10-19               0.21                               6   \n",
              "1      2019-05-21               0.38                               2   \n",
              "2             NaN                NaN                               1   \n",
              "3      2019-07-05               4.64                               1   \n",
              "4      2018-11-19               0.10                               1   \n",
              "...           ...                ...                             ...   \n",
              "48890         NaN                NaN                               2   \n",
              "48891         NaN                NaN                               2   \n",
              "48892         NaN                NaN                               1   \n",
              "48893         NaN                NaN                               6   \n",
              "48894         NaN                NaN                               1   \n",
              "\n",
              "       availability_365  \n",
              "0                   365  \n",
              "1                   355  \n",
              "2                   365  \n",
              "3                   194  \n",
              "4                     0  \n",
              "...                 ...  \n",
              "48890                 9  \n",
              "48891                36  \n",
              "48892                27  \n",
              "48893                 2  \n",
              "48894                23  \n",
              "\n",
              "[48895 rows x 16 columns]"
            ],
            "text/html": [
              "\n",
              "  <div id=\"df-b3d3e4cc-5dcf-4127-ad77-e8c3b32966a0\">\n",
              "    <div class=\"colab-df-container\">\n",
              "      <div>\n",
              "<style scoped>\n",
              "    .dataframe tbody tr th:only-of-type {\n",
              "        vertical-align: middle;\n",
              "    }\n",
              "\n",
              "    .dataframe tbody tr th {\n",
              "        vertical-align: top;\n",
              "    }\n",
              "\n",
              "    .dataframe thead th {\n",
              "        text-align: right;\n",
              "    }\n",
              "</style>\n",
              "<table border=\"1\" class=\"dataframe\">\n",
              "  <thead>\n",
              "    <tr style=\"text-align: right;\">\n",
              "      <th></th>\n",
              "      <th>id</th>\n",
              "      <th>name</th>\n",
              "      <th>host_id</th>\n",
              "      <th>host_name</th>\n",
              "      <th>neighbourhood_group</th>\n",
              "      <th>neighbourhood</th>\n",
              "      <th>latitude</th>\n",
              "      <th>longitude</th>\n",
              "      <th>room_type</th>\n",
              "      <th>price</th>\n",
              "      <th>minimum_nights</th>\n",
              "      <th>number_of_reviews</th>\n",
              "      <th>last_review</th>\n",
              "      <th>reviews_per_month</th>\n",
              "      <th>calculated_host_listings_count</th>\n",
              "      <th>availability_365</th>\n",
              "    </tr>\n",
              "  </thead>\n",
              "  <tbody>\n",
              "    <tr>\n",
              "      <th>0</th>\n",
              "      <td>2539</td>\n",
              "      <td>Clean &amp; quiet apt home by the park</td>\n",
              "      <td>2787</td>\n",
              "      <td>John</td>\n",
              "      <td>Brooklyn</td>\n",
              "      <td>Kensington</td>\n",
              "      <td>40.64749</td>\n",
              "      <td>-73.97237</td>\n",
              "      <td>Private room</td>\n",
              "      <td>149</td>\n",
              "      <td>1</td>\n",
              "      <td>9</td>\n",
              "      <td>2018-10-19</td>\n",
              "      <td>0.21</td>\n",
              "      <td>6</td>\n",
              "      <td>365</td>\n",
              "    </tr>\n",
              "    <tr>\n",
              "      <th>1</th>\n",
              "      <td>2595</td>\n",
              "      <td>Skylit Midtown Castle</td>\n",
              "      <td>2845</td>\n",
              "      <td>Jennifer</td>\n",
              "      <td>Manhattan</td>\n",
              "      <td>Midtown</td>\n",
              "      <td>40.75362</td>\n",
              "      <td>-73.98377</td>\n",
              "      <td>Entire home/apt</td>\n",
              "      <td>225</td>\n",
              "      <td>1</td>\n",
              "      <td>45</td>\n",
              "      <td>2019-05-21</td>\n",
              "      <td>0.38</td>\n",
              "      <td>2</td>\n",
              "      <td>355</td>\n",
              "    </tr>\n",
              "    <tr>\n",
              "      <th>2</th>\n",
              "      <td>3647</td>\n",
              "      <td>THE VILLAGE OF HARLEM....NEW YORK !</td>\n",
              "      <td>4632</td>\n",
              "      <td>Elisabeth</td>\n",
              "      <td>Manhattan</td>\n",
              "      <td>Harlem</td>\n",
              "      <td>40.80902</td>\n",
              "      <td>-73.94190</td>\n",
              "      <td>Private room</td>\n",
              "      <td>150</td>\n",
              "      <td>3</td>\n",
              "      <td>0</td>\n",
              "      <td>NaN</td>\n",
              "      <td>NaN</td>\n",
              "      <td>1</td>\n",
              "      <td>365</td>\n",
              "    </tr>\n",
              "    <tr>\n",
              "      <th>3</th>\n",
              "      <td>3831</td>\n",
              "      <td>Cozy Entire Floor of Brownstone</td>\n",
              "      <td>4869</td>\n",
              "      <td>LisaRoxanne</td>\n",
              "      <td>Brooklyn</td>\n",
              "      <td>Clinton Hill</td>\n",
              "      <td>40.68514</td>\n",
              "      <td>-73.95976</td>\n",
              "      <td>Entire home/apt</td>\n",
              "      <td>89</td>\n",
              "      <td>1</td>\n",
              "      <td>270</td>\n",
              "      <td>2019-07-05</td>\n",
              "      <td>4.64</td>\n",
              "      <td>1</td>\n",
              "      <td>194</td>\n",
              "    </tr>\n",
              "    <tr>\n",
              "      <th>4</th>\n",
              "      <td>5022</td>\n",
              "      <td>Entire Apt: Spacious Studio/Loft by central park</td>\n",
              "      <td>7192</td>\n",
              "      <td>Laura</td>\n",
              "      <td>Manhattan</td>\n",
              "      <td>East Harlem</td>\n",
              "      <td>40.79851</td>\n",
              "      <td>-73.94399</td>\n",
              "      <td>Entire home/apt</td>\n",
              "      <td>80</td>\n",
              "      <td>10</td>\n",
              "      <td>9</td>\n",
              "      <td>2018-11-19</td>\n",
              "      <td>0.10</td>\n",
              "      <td>1</td>\n",
              "      <td>0</td>\n",
              "    </tr>\n",
              "    <tr>\n",
              "      <th>...</th>\n",
              "      <td>...</td>\n",
              "      <td>...</td>\n",
              "      <td>...</td>\n",
              "      <td>...</td>\n",
              "      <td>...</td>\n",
              "      <td>...</td>\n",
              "      <td>...</td>\n",
              "      <td>...</td>\n",
              "      <td>...</td>\n",
              "      <td>...</td>\n",
              "      <td>...</td>\n",
              "      <td>...</td>\n",
              "      <td>...</td>\n",
              "      <td>...</td>\n",
              "      <td>...</td>\n",
              "      <td>...</td>\n",
              "    </tr>\n",
              "    <tr>\n",
              "      <th>48890</th>\n",
              "      <td>36484665</td>\n",
              "      <td>Charming one bedroom - newly renovated rowhouse</td>\n",
              "      <td>8232441</td>\n",
              "      <td>Sabrina</td>\n",
              "      <td>Brooklyn</td>\n",
              "      <td>Bedford-Stuyvesant</td>\n",
              "      <td>40.67853</td>\n",
              "      <td>-73.94995</td>\n",
              "      <td>Private room</td>\n",
              "      <td>70</td>\n",
              "      <td>2</td>\n",
              "      <td>0</td>\n",
              "      <td>NaN</td>\n",
              "      <td>NaN</td>\n",
              "      <td>2</td>\n",
              "      <td>9</td>\n",
              "    </tr>\n",
              "    <tr>\n",
              "      <th>48891</th>\n",
              "      <td>36485057</td>\n",
              "      <td>Affordable room in Bushwick/East Williamsburg</td>\n",
              "      <td>6570630</td>\n",
              "      <td>Marisol</td>\n",
              "      <td>Brooklyn</td>\n",
              "      <td>Bushwick</td>\n",
              "      <td>40.70184</td>\n",
              "      <td>-73.93317</td>\n",
              "      <td>Private room</td>\n",
              "      <td>40</td>\n",
              "      <td>4</td>\n",
              "      <td>0</td>\n",
              "      <td>NaN</td>\n",
              "      <td>NaN</td>\n",
              "      <td>2</td>\n",
              "      <td>36</td>\n",
              "    </tr>\n",
              "    <tr>\n",
              "      <th>48892</th>\n",
              "      <td>36485431</td>\n",
              "      <td>Sunny Studio at Historical Neighborhood</td>\n",
              "      <td>23492952</td>\n",
              "      <td>Ilgar &amp; Aysel</td>\n",
              "      <td>Manhattan</td>\n",
              "      <td>Harlem</td>\n",
              "      <td>40.81475</td>\n",
              "      <td>-73.94867</td>\n",
              "      <td>Entire home/apt</td>\n",
              "      <td>115</td>\n",
              "      <td>10</td>\n",
              "      <td>0</td>\n",
              "      <td>NaN</td>\n",
              "      <td>NaN</td>\n",
              "      <td>1</td>\n",
              "      <td>27</td>\n",
              "    </tr>\n",
              "    <tr>\n",
              "      <th>48893</th>\n",
              "      <td>36485609</td>\n",
              "      <td>43rd St. Time Square-cozy single bed</td>\n",
              "      <td>30985759</td>\n",
              "      <td>Taz</td>\n",
              "      <td>Manhattan</td>\n",
              "      <td>Hell's Kitchen</td>\n",
              "      <td>40.75751</td>\n",
              "      <td>-73.99112</td>\n",
              "      <td>Shared room</td>\n",
              "      <td>55</td>\n",
              "      <td>1</td>\n",
              "      <td>0</td>\n",
              "      <td>NaN</td>\n",
              "      <td>NaN</td>\n",
              "      <td>6</td>\n",
              "      <td>2</td>\n",
              "    </tr>\n",
              "    <tr>\n",
              "      <th>48894</th>\n",
              "      <td>36487245</td>\n",
              "      <td>Trendy duplex in the very heart of Hell's Kitchen</td>\n",
              "      <td>68119814</td>\n",
              "      <td>Christophe</td>\n",
              "      <td>Manhattan</td>\n",
              "      <td>Hell's Kitchen</td>\n",
              "      <td>40.76404</td>\n",
              "      <td>-73.98933</td>\n",
              "      <td>Private room</td>\n",
              "      <td>90</td>\n",
              "      <td>7</td>\n",
              "      <td>0</td>\n",
              "      <td>NaN</td>\n",
              "      <td>NaN</td>\n",
              "      <td>1</td>\n",
              "      <td>23</td>\n",
              "    </tr>\n",
              "  </tbody>\n",
              "</table>\n",
              "<p>48895 rows × 16 columns</p>\n",
              "</div>\n",
              "      <button class=\"colab-df-convert\" onclick=\"convertToInteractive('df-b3d3e4cc-5dcf-4127-ad77-e8c3b32966a0')\"\n",
              "              title=\"Convert this dataframe to an interactive table.\"\n",
              "              style=\"display:none;\">\n",
              "        \n",
              "  <svg xmlns=\"http://www.w3.org/2000/svg\" height=\"24px\"viewBox=\"0 0 24 24\"\n",
              "       width=\"24px\">\n",
              "    <path d=\"M0 0h24v24H0V0z\" fill=\"none\"/>\n",
              "    <path d=\"M18.56 5.44l.94 2.06.94-2.06 2.06-.94-2.06-.94-.94-2.06-.94 2.06-2.06.94zm-11 1L8.5 8.5l.94-2.06 2.06-.94-2.06-.94L8.5 2.5l-.94 2.06-2.06.94zm10 10l.94 2.06.94-2.06 2.06-.94-2.06-.94-.94-2.06-.94 2.06-2.06.94z\"/><path d=\"M17.41 7.96l-1.37-1.37c-.4-.4-.92-.59-1.43-.59-.52 0-1.04.2-1.43.59L10.3 9.45l-7.72 7.72c-.78.78-.78 2.05 0 2.83L4 21.41c.39.39.9.59 1.41.59.51 0 1.02-.2 1.41-.59l7.78-7.78 2.81-2.81c.8-.78.8-2.07 0-2.86zM5.41 20L4 18.59l7.72-7.72 1.47 1.35L5.41 20z\"/>\n",
              "  </svg>\n",
              "      </button>\n",
              "      \n",
              "  <style>\n",
              "    .colab-df-container {\n",
              "      display:flex;\n",
              "      flex-wrap:wrap;\n",
              "      gap: 12px;\n",
              "    }\n",
              "\n",
              "    .colab-df-convert {\n",
              "      background-color: #E8F0FE;\n",
              "      border: none;\n",
              "      border-radius: 50%;\n",
              "      cursor: pointer;\n",
              "      display: none;\n",
              "      fill: #1967D2;\n",
              "      height: 32px;\n",
              "      padding: 0 0 0 0;\n",
              "      width: 32px;\n",
              "    }\n",
              "\n",
              "    .colab-df-convert:hover {\n",
              "      background-color: #E2EBFA;\n",
              "      box-shadow: 0px 1px 2px rgba(60, 64, 67, 0.3), 0px 1px 3px 1px rgba(60, 64, 67, 0.15);\n",
              "      fill: #174EA6;\n",
              "    }\n",
              "\n",
              "    [theme=dark] .colab-df-convert {\n",
              "      background-color: #3B4455;\n",
              "      fill: #D2E3FC;\n",
              "    }\n",
              "\n",
              "    [theme=dark] .colab-df-convert:hover {\n",
              "      background-color: #434B5C;\n",
              "      box-shadow: 0px 1px 3px 1px rgba(0, 0, 0, 0.15);\n",
              "      filter: drop-shadow(0px 1px 2px rgba(0, 0, 0, 0.3));\n",
              "      fill: #FFFFFF;\n",
              "    }\n",
              "  </style>\n",
              "\n",
              "      <script>\n",
              "        const buttonEl =\n",
              "          document.querySelector('#df-b3d3e4cc-5dcf-4127-ad77-e8c3b32966a0 button.colab-df-convert');\n",
              "        buttonEl.style.display =\n",
              "          google.colab.kernel.accessAllowed ? 'block' : 'none';\n",
              "\n",
              "        async function convertToInteractive(key) {\n",
              "          const element = document.querySelector('#df-b3d3e4cc-5dcf-4127-ad77-e8c3b32966a0');\n",
              "          const dataTable =\n",
              "            await google.colab.kernel.invokeFunction('convertToInteractive',\n",
              "                                                     [key], {});\n",
              "          if (!dataTable) return;\n",
              "\n",
              "          const docLinkHtml = 'Like what you see? Visit the ' +\n",
              "            '<a target=\"_blank\" href=https://colab.research.google.com/notebooks/data_table.ipynb>data table notebook</a>'\n",
              "            + ' to learn more about interactive tables.';\n",
              "          element.innerHTML = '';\n",
              "          dataTable['output_type'] = 'display_data';\n",
              "          await google.colab.output.renderOutput(dataTable, element);\n",
              "          const docLink = document.createElement('div');\n",
              "          docLink.innerHTML = docLinkHtml;\n",
              "          element.appendChild(docLink);\n",
              "        }\n",
              "      </script>\n",
              "    </div>\n",
              "  </div>\n",
              "  "
            ]
          },
          "metadata": {},
          "execution_count": 4
        }
      ]
    },
    {
      "cell_type": "markdown",
      "source": [
        "## Entendendo a base de dados"
      ],
      "metadata": {
        "id": "fmfyGZKMfRQi"
      }
    },
    {
      "cell_type": "code",
      "source": [
        "data_ny.info()"
      ],
      "metadata": {
        "id": "T5uEAJSifi8h"
      },
      "execution_count": null,
      "outputs": []
    },
    {
      "cell_type": "code",
      "source": [
        "data_ny.describe()"
      ],
      "metadata": {
        "id": "qlBUMj7MfTNx"
      },
      "execution_count": null,
      "outputs": []
    },
    {
      "cell_type": "markdown",
      "source": [
        "## Resolvendo o problema"
      ],
      "metadata": {
        "id": "cuKRXKsJfsT5"
      }
    },
    {
      "cell_type": "code",
      "source": [
        "display(data_ny.head())"
      ],
      "metadata": {
        "id": "sHOwD9lZfuyh"
      },
      "execution_count": null,
      "outputs": []
    },
    {
      "cell_type": "code",
      "source": [
        "#Qual o valor médio do aluguel na cidade de Nova York?\n",
        "mean_price = data_ny[\"price\"].mean()\n",
        "print(f\"O valor médio do aluguel é de U$ {round(mean_price, 2)}\")\n",
        "print()\n",
        "\n",
        "#Quais os nomes das regiões que existem na cidade de Nova York?\n",
        "disticts_regions = data_ny[\"neighbourhood_group\"].unique()\n",
        "print(f\"R: {disticts_regions}\")\n",
        "print()\n",
        "\n",
        "#Qual o valor do aluguel diário mais caro da cidade de Nova York?\n",
        "max_price = data_ny[\"price\"].max()\n",
        "print(f\"R: O valor do aluguel diária mais cara é de U$ {max_price}\")"
      ],
      "metadata": {
        "id": "JdEpNNYYg-Wg"
      },
      "execution_count": null,
      "outputs": []
    },
    {
      "cell_type": "markdown",
      "source": [
        "## Enviando o produto final"
      ],
      "metadata": {
        "id": "FeE3moRvf1MZ"
      }
    },
    {
      "cell_type": "code",
      "source": [
        "print(f\"Olá CEO, espero que esse e-mail o encontre bem.\")\n",
        "print(f\"Meu nome é Juan Almeida, sou Cientista de Dados do time de expansão.\")\n",
        "print(f\"Segue abaixo as respostas das perguntas de negócio solicitadas, referente a expansão de Nova York.\")\n",
        "print()\n",
        "print(f\"Qual o valor médio do aluguel na cidade de Nova York?\")\n",
        "print(f\"O valor médio do aluguel é de U$ {round(mean_price, 2)}\")\n",
        "print()\n",
        "print(f\"Quais os nomes das regiões que existem na cidade de Nova York?\")\n",
        "print(f\"R: {disticts_regions}\")\n",
        "print()\n",
        "print(f\"Qual o valor do aluguel diário mais caro da cidade de Nova York?\")\n",
        "print(f\"R: O valor do aluguel diária mais cara é de U$ {max_price}\")"
      ],
      "metadata": {
        "id": "mVJHMhvAf4RB"
      },
      "execution_count": null,
      "outputs": []
    },
    {
      "cell_type": "markdown",
      "source": [
        "# Exercícios - Ciclo I"
      ],
      "metadata": {
        "id": "ZDdnNZOaKzmc"
      }
    },
    {
      "cell_type": "markdown",
      "source": [
        "1. Some o valor 10 com 30 e exiba na tela\n",
        "\n",
        "2. Some os seguintes números: 10, 300, 0.4, 10\n",
        "\n",
        "3. Desenvolva comandos em Python capaz de calcular a média harmônica entre 5 números. Por exemplo: 2, 3, 5, 6 e 9\n",
        "\n",
        "4. Um Cientista de Dados Jr precisa criar sequência de comandos que seja capaz de calcular a média ponderada dos valores digitados pelo usuário. O usuário é capaz de digitar 8 valores. O primeiro número tem peso 0.5 , o segundo 1.0, o terceiro 1.5 até o último valor que tem peso 4, ou seja, os pesos são acrescidos de 0.5 para cada valor. Portanto, o algoritmo deve ser capaz de calcular a média ponderada dos oito valores digitados pelo usuário, cada valor com o seu respectivo peso.\n",
        "\n",
        "    valor_01 = input( \"Digite o primeiro valor\" )\n",
        "    valor_02 = input( \"Digite o segundo valor\" )\n",
        "    valor_03 = input( \"Digite o terceiro valor\" )\n",
        "    valor_04 = input( \"Digite o quarto valor\" )\n",
        "\n",
        "5. Um programador Jr precisa construir uma mini calculadora. Essa calculadora segue os seguintes padrões:\n",
        "* Se o usuário digital um valor menor ou igual a 5, a calculadora vai multiplicar esse valor por 10 e retornar o valor resultantes para o usuário\n",
        "* Se o usuário digitar um número entre 6 e 10, a calculadora multiplica por 20 o número digitado pelo usuário\n",
        "* Se o usuário digitar um valor maior ou igual a 11, a calculadora soma 100 ao número digitado. Ajude o programador Jr a construir essa calculadora, fornecendo os comandos em Python para ele.\n",
        "\n",
        "6. Um programador Jr precisa criar um algoritmo que consiga fazer a comparação entre três valores e exibir qual é o maior e qual é o menor valor digitado. Ajude o programador desenvolvendo o código em Python."
      ],
      "metadata": {
        "id": "fuxqefSrK7BM"
      }
    },
    {
      "cell_type": "code",
      "source": [
        "'''\n",
        "Some o valor 10 com 30 e exiba na tela\n",
        "'''\n",
        "valor1 = int(input(\"Digite o primeiro valor a ser somado: \"))\n",
        "valor2 = int(input(\"Digite o segundo valor a ser somado: \"))\n",
        "\n",
        "print(f\"A soma dos valores digitados é igual a {valor1 + valor2}\")"
      ],
      "metadata": {
        "colab": {
          "base_uri": "https://localhost:8080/"
        },
        "id": "s5x76C_nK6UU",
        "outputId": "0e5b6e64-d308-47c9-df1d-6abf28d970b0"
      },
      "execution_count": null,
      "outputs": [
        {
          "output_type": "stream",
          "name": "stdout",
          "text": [
            "Digite o primeiro valor a ser somado: 10\n",
            "Digite o segundo valor a ser somado: 30\n",
            "A soma dos valores digitados é igual a 40\n"
          ]
        }
      ]
    },
    {
      "cell_type": "code",
      "source": [
        "'''\n",
        "Some os seguintes números: 10, 300, 0.4, 10\n",
        "'''\n",
        "# PRIMEIRA SOLUÇÃO\n",
        "qtde_num = int(input(\"Quantos números deseja somar? \"))\n",
        "\n",
        "i = 1\n",
        "soma = 0\n",
        "while i <= qtde_num:\n",
        "  num = float(input(f\"Digite o {i}° número a ser somado: \"))\n",
        "  i += 1\n",
        "  soma += num\n",
        "\n",
        "print(f\"A soma dos valores digitados é igual a {soma}\")"
      ],
      "metadata": {
        "colab": {
          "base_uri": "https://localhost:8080/"
        },
        "id": "et9h-m4cMhap",
        "outputId": "af32c748-18d4-4004-fa2b-8e9ac7add292"
      },
      "execution_count": null,
      "outputs": [
        {
          "output_type": "stream",
          "name": "stdout",
          "text": [
            "Quantos números deseja somar? 4\n",
            "Digite o 1° número a ser somado: 10\n",
            "Digite o 2° número a ser somado: 300\n",
            "Digite o 3° número a ser somado: 0.4\n",
            "Digite o 4° número a ser somado: 10\n",
            "A soma dos valores digitados é igual a 320.4\n"
          ]
        }
      ]
    },
    {
      "cell_type": "code",
      "source": [
        "# SOLUÇÃO OTIMIZADA COM 5 LINHAS\n",
        "lista_numeros = []\n",
        "qtde_num = int(input(\"Quantos números deseja somar? \"))\n",
        "\n",
        "for i in range(4):\n",
        "  lista_numeros.append(float(input(f\"Digite o {i+1}° número a ser somado: \")))\n",
        "\n",
        "print(f\"A soma dos valores digitados é igual a {np.sum(lista_numeros)}\")"
      ],
      "metadata": {
        "colab": {
          "base_uri": "https://localhost:8080/"
        },
        "id": "qEbN1hNHu8z5",
        "outputId": "b9949fe7-af83-492e-b3e8-04ec591df5bb"
      },
      "execution_count": 15,
      "outputs": [
        {
          "output_type": "stream",
          "name": "stdout",
          "text": [
            "Quantos números deseja somar? 4\n",
            "Digite o 1° número a ser somado: 10\n",
            "Digite o 2° número a ser somado: 300\n",
            "Digite o 3° número a ser somado: 0.4\n",
            "Digite o 4° número a ser somado: 10\n",
            "A soma dos valores digitados é igual a 320.4\n"
          ]
        }
      ]
    },
    {
      "cell_type": "code",
      "source": [
        "'''\n",
        "Desenvolva comandos em Python capaz de calcular a média harmônica entre 5 números. Por exemplo: 2, 3, 5, 6 e 9\n",
        "'''\n",
        "qtde_num = int(input(\"Quantos números deseja somar? \"))\n",
        "nums = []\n",
        "\n",
        "soma = 0\n",
        "for i in range(qtde_num):\n",
        "  num = (float(input(f\"Digite o {i + 1}° número a ser somado: \")))\n",
        "  nums.append(int(num))\n",
        "  soma += (1/num)\n",
        "\n",
        "print(f\"A Média Harmônica dos valores {nums} é igual a {round(qtde_num/soma, 2)}\")"
      ],
      "metadata": {
        "colab": {
          "base_uri": "https://localhost:8080/"
        },
        "id": "-LNOlVd7NWVx",
        "outputId": "81edf432-d02f-4888-ac4f-685969f9f5b2"
      },
      "execution_count": 19,
      "outputs": [
        {
          "output_type": "stream",
          "name": "stdout",
          "text": [
            "Quantos números deseja somar? 5\n",
            "Digite o 1° número a ser somado: 2\n",
            "Digite o 2° número a ser somado: 3\n",
            "Digite o 3° número a ser somado: 5\n",
            "Digite o 4° número a ser somado: 6\n",
            "Digite o 5° número a ser somado: 9\n",
            "A Média Harmônica dos valores [2, 3, 5, 6, 9] é igual a 3.81\n"
          ]
        }
      ]
    },
    {
      "cell_type": "code",
      "source": [
        "'''\n",
        "Um Cientista de Dados Jr precisa criar sequência de comandos que seja capaz de calcular a média ponderada dos valores digitados pelo usuário.\n",
        "O usuário é capaz de digitar 8 valores. O primeiro número tem peso 0.5 , o segundo 1.0, o terceiro 1.5 até o último valor que tem peso 4, ou seja, os pesos são acrescidos de 0.5 para cada valor.\n",
        "Portanto, o algoritmo deve ser capaz de calcular a média ponderada dos oito valores digitados pelo usuário, cada valor com o seu respectivo peso.\n",
        "'''\n",
        "valores = []\n",
        "limite = 8\n",
        "peso = 0.5\n",
        "\n",
        "soma_ponderada = 0\n",
        "soma_pesos = 0\n",
        "for i in range(limite):\n",
        "  valor = int(input(f\"Digite o {i + 1}° valor: \"))\n",
        "  valores.append(valor)\n",
        "  soma_ponderada += (valor*peso)\n",
        "  soma_pesos += peso\n",
        "  peso += 0.5\n",
        "\n",
        "print(f\"A Média Ponderada dos valores {valores} é igual a {round(soma_ponderada/soma_pesos, 2)}\")"
      ],
      "metadata": {
        "colab": {
          "base_uri": "https://localhost:8080/"
        },
        "id": "VE7ptyF9RltJ",
        "outputId": "af7b1de6-06a0-4808-9034-b0038513ccf0"
      },
      "execution_count": 20,
      "outputs": [
        {
          "output_type": "stream",
          "name": "stdout",
          "text": [
            "Digite o 1° valor: 10\n",
            "Digite o 2° valor: 20\n",
            "Digite o 3° valor: 8\n",
            "Digite o 4° valor: 5\n",
            "Digite o 5° valor: 4\n",
            "Digite o 6° valor: 6\n",
            "Digite o 7° valor: 7\n",
            "Digite o 8° valor: 2\n",
            "A Média Ponderada dos valores [10, 20, 8, 5, 4, 6, 7, 2] é igual a 5.97\n"
          ]
        }
      ]
    },
    {
      "cell_type": "code",
      "source": [
        "'''\n",
        "Um programador Jr precisa construir uma mini calculadora. Essa calculadora segue os seguintes padrões:\n",
        "  Se o usuário digitar um valor menor ou igual a 5, a calculadora vai multiplicar esse valor por 10 e retornar o valor resultantes para o usuário\n",
        "  Se o usuário digitar um número entre 6 e 10, a calculadora multiplica por 20 o número digitado pelo usuário\n",
        "  Se o usuário digitar um valor maior ou igual a 11, a calculadora soma 100 ao número digitado. Ajude o programador Jr a construir essa calculadora, fornecendo os comandos em Python para ele.\n",
        "'''\n",
        "valor = int(input(f\"Digite o valor desejado: \"))\n",
        "\n",
        "if valor <= 5:\n",
        "  print(f\"O valor retornado pelo sistema foi {valor*10}\")\n",
        "elif valor >= 6 and valor <= 10:\n",
        "  print(f\"O valor retornado pelo sistema foi {valor*20}\")\n",
        "else:\n",
        "  print(f\"O valor retornado pelo sistema foi {valor*100}\")"
      ],
      "metadata": {
        "colab": {
          "base_uri": "https://localhost:8080/"
        },
        "id": "HQn30s-4qw1K",
        "outputId": "505f3b6d-81f9-4d38-b3d0-ca125e86dcac"
      },
      "execution_count": 22,
      "outputs": [
        {
          "output_type": "stream",
          "name": "stdout",
          "text": [
            "Digite o valor desejado: 6\n",
            "O valor retornado pelo sistema foi 120\n"
          ]
        }
      ]
    },
    {
      "cell_type": "code",
      "source": [
        "'''\n",
        "Um programador Jr precisa criar um algoritmo que consiga fazer a comparação entre três valores e exibir qual é o maior e qual é o menor valor digitado.\n",
        "Ajude o programador desenvolvendo o código em Python.\n",
        "'''\n",
        "lista_valores = []\n",
        "\n",
        "for i in range(3):\n",
        "  valor = (int(input(f\"Digite o {i + 1}° valor: \")))\n",
        "  lista_valores.append(valor)\n",
        "\n",
        "maior, menor = valor, valor\n",
        "for elemento in lista_valores:\n",
        "  if elemento > maior:\n",
        "    maior = elemento\n",
        "  elif elemento < menor:\n",
        "    menor = elemento\n",
        "\n",
        "print(f\"O Maior e Menor valor encontrados foram, respectivamente, {maior} e {menor}\")"
      ],
      "metadata": {
        "colab": {
          "base_uri": "https://localhost:8080/"
        },
        "id": "sYJwaCM8rtYS",
        "outputId": "ea71f7b0-27d1-43b3-f19d-518eea997050"
      },
      "execution_count": 25,
      "outputs": [
        {
          "output_type": "stream",
          "name": "stdout",
          "text": [
            "Digite o 1° valor: 20\n",
            "Digite o 2° valor: 5\n",
            "Digite o 3° valor: 10\n",
            "O Maior e Menor valor encontrados foram, respectivamente, 20 e 5\n"
          ]
        }
      ]
    }
  ]
}